{
 "cells": [
  {
   "cell_type": "code",
   "execution_count": null,
   "metadata": {},
   "outputs": [],
   "source": [
    "import pandas as pd\n",
    "from sqlalchemy import create_engine\n",
    "from config import username, password"
   ]
  },
  {
   "cell_type": "code",
   "execution_count": null,
   "metadata": {},
   "outputs": [],
   "source": [
    "billionaire_df = pd.read_csv(\"static/data/billionaire.csv\")\n",
    "billionaire_df.head()"
   ]
  },
  {
   "cell_type": "code",
   "execution_count": null,
   "metadata": {},
   "outputs": [],
   "source": [

    "coord_df = pd.read_csv(\"static/data/country_lat_lon.csv\")\n",

    "coord_df.head()"
   ]
  },
  {
   "cell_type": "code",
   "execution_count": null,
   "metadata": {},
   "outputs": [],
   "source": [
    "merged_df = pd.merge(billionaire_df, coord_df, left_on=\"Country\", right_on=\"country\")\n",
    "merged_df.head()"
   ]
  },
  {
   "cell_type": "code",
   "execution_count": null,
   "metadata": {},
   "outputs": [],
   "source": [
    "final_df = merged_df[[\"Name\", \"NetWorth\", \"Country\", \"Source\", \"Rank\", \"latitude\", \"longitude\"]].copy()\n",
    "\n",
    "final_df = final_df.rename(columns={\"Name\": \"name\",\n",
    "                                    \"NetWorth\": \"networth\",\n",
    "                                    \"Country\": \"country\",\n",
    "                                    \"Source\": \"source\",\n",
    "                                    \"Rank\": \"rank\"})\n",
    "\n",
    "final_df[\"networth\"] = final_df[\"networth\"].map(lambda x: x.lstrip(\"$\").rstrip(\" B\")).astype(float)\n",
    "\n",
    "final_df.dtypes"
   ]
  },
  {
   "cell_type": "code",
   "execution_count": null,
   "metadata": {},
   "outputs": [],
   "source": [

    "final_df.to_csv(\"static/data/merged_data.csv\", index=False)"

   ]
  },
  {
   "cell_type": "code",
   "execution_count": null,
   "metadata": {},
   "outputs": [],
   "source": [
    "final_df[\"id\"] = final_df.index\n",
    "final_df.set_index(\"id\", inplace=True)\n",
    "final_df.head()"
   ]
  },
  {
   "cell_type": "code",
   "execution_count": null,
   "metadata": {},
   "outputs": [],
   "source": [
    "connection_string = f\"{username}:{password}@localhost:5432/billionaires_db\"\n",
    "engine = create_engine(f\"postgresql://{connection_string}\")"
   ]
  },
  {
   "cell_type": "code",
   "execution_count": null,
   "metadata": {},
   "outputs": [],
   "source": [
    "final_df.to_sql(name=\"billionaires\", con=engine, if_exists=\"append\", index=True)"
   ]
  },
  {
   "cell_type": "code",
   "execution_count": null,
   "metadata": {},
   "outputs": [],
   "source": [
    "pd.read_sql_query('select * from billionaires', con=engine).head()"
   ]
  },
  {
   "cell_type": "code",
   "execution_count": null,
   "metadata": {},
   "outputs": [],
   "source": []
  }
 ],
 "metadata": {
  "kernelspec": {
   "display_name": "Python 3",
   "language": "python",
   "name": "python3"
  },
  "language_info": {
   "codemirror_mode": {
    "name": "ipython",
    "version": 3
   },
   "file_extension": ".py",
   "mimetype": "text/x-python",
   "name": "python",
   "nbconvert_exporter": "python",
   "pygments_lexer": "ipython3",
   "version": "3.8.5"
  }
 },
 "nbformat": 4,
 "nbformat_minor": 4
}
